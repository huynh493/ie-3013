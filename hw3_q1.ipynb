{
 "cells": [
  {
   "cell_type": "markdown",
   "metadata": {},
   "source": [
    "# HW 3, problem 1\n",
    "\n",
    "K-means clustering for the states crime data"
   ]
  },
  {
   "cell_type": "code",
   "execution_count": 1,
   "metadata": {},
   "outputs": [
    {
     "data": {
      "text/html": [
       "<div class=\"data-frame\"><p>5 rows × 5 columns</p><table class=\"data-frame\"><thead><tr><th></th><th>State</th><th>Murder</th><th>Assault</th><th>UrbanPop</th><th>Rape</th></tr><tr><th></th><th title=\"String15\">String15</th><th title=\"Float64\">Float64</th><th title=\"Int64\">Int64</th><th title=\"Int64\">Int64</th><th title=\"Float64\">Float64</th></tr></thead><tbody><tr><th>1</th><td>Alabama</td><td>13.2</td><td>236</td><td>58</td><td>21.2</td></tr><tr><th>2</th><td>Alaska</td><td>10.0</td><td>263</td><td>48</td><td>44.5</td></tr><tr><th>3</th><td>Arizona</td><td>8.1</td><td>294</td><td>80</td><td>31.0</td></tr><tr><th>4</th><td>Arkansas</td><td>8.8</td><td>190</td><td>50</td><td>19.5</td></tr><tr><th>5</th><td>California</td><td>9.0</td><td>276</td><td>91</td><td>40.6</td></tr></tbody></table></div>"
      ],
      "text/latex": [
       "\\begin{tabular}{r|ccccc}\n",
       "\t& State & Murder & Assault & UrbanPop & Rape\\\\\n",
       "\t\\hline\n",
       "\t& String15 & Float64 & Int64 & Int64 & Float64\\\\\n",
       "\t\\hline\n",
       "\t1 & Alabama & 13.2 & 236 & 58 & 21.2 \\\\\n",
       "\t2 & Alaska & 10.0 & 263 & 48 & 44.5 \\\\\n",
       "\t3 & Arizona & 8.1 & 294 & 80 & 31.0 \\\\\n",
       "\t4 & Arkansas & 8.8 & 190 & 50 & 19.5 \\\\\n",
       "\t5 & California & 9.0 & 276 & 91 & 40.6 \\\\\n",
       "\\end{tabular}\n"
      ],
      "text/plain": [
       "\u001b[1m5×5 DataFrame\u001b[0m\n",
       "\u001b[1m Row \u001b[0m│\u001b[1m State      \u001b[0m\u001b[1m Murder  \u001b[0m\u001b[1m Assault \u001b[0m\u001b[1m UrbanPop \u001b[0m\u001b[1m Rape    \u001b[0m\n",
       "\u001b[1m     \u001b[0m│\u001b[90m String15   \u001b[0m\u001b[90m Float64 \u001b[0m\u001b[90m Int64   \u001b[0m\u001b[90m Int64    \u001b[0m\u001b[90m Float64 \u001b[0m\n",
       "─────┼─────────────────────────────────────────────────\n",
       "   1 │ Alabama        13.2      236        58     21.2\n",
       "   2 │ Alaska         10.0      263        48     44.5\n",
       "   3 │ Arizona         8.1      294        80     31.0\n",
       "   4 │ Arkansas        8.8      190        50     19.5\n",
       "   5 │ California      9.0      276        91     40.6"
      ]
     },
     "execution_count": 1,
     "metadata": {},
     "output_type": "execute_result"
    }
   ],
   "source": [
    "using DataFrames, CSV\n",
    "using StatsBase, Statistics\n",
    "using LinearAlgebra\n",
    "using Plots\n",
    "\n",
    "US = CSV.read(\"USArrests.csv\", DataFrame)\n",
    "# murder, assault, rape per 100K\n",
    "# percent urban population\n",
    "first(US, 5)"
   ]
  },
  {
   "cell_type": "code",
   "execution_count": 2,
   "metadata": {},
   "outputs": [
    {
     "data": {
      "text/plain": [
       "50×4 Matrix{Float64}:\n",
       " 13.2  236.0  58.0  21.2\n",
       " 10.0  263.0  48.0  44.5\n",
       "  8.1  294.0  80.0  31.0\n",
       "  8.8  190.0  50.0  19.5\n",
       "  9.0  276.0  91.0  40.6\n",
       "  7.9  204.0  78.0  38.7\n",
       "  3.3  110.0  77.0  11.1\n",
       "  5.9  238.0  72.0  15.8\n",
       " 15.4  335.0  80.0  31.9\n",
       " 17.4  211.0  60.0  25.8\n",
       "  5.3   46.0  83.0  20.2\n",
       "  2.6  120.0  54.0  14.2\n",
       " 10.4  249.0  83.0  24.0\n",
       "  ⋮                 \n",
       "  3.4  174.0  87.0   8.3\n",
       " 14.4  279.0  48.0  22.5\n",
       "  3.8   86.0  45.0  12.8\n",
       " 13.2  188.0  59.0  26.9\n",
       " 12.7  201.0  80.0  25.5\n",
       "  3.2  120.0  80.0  22.9\n",
       "  2.2   48.0  32.0  11.2\n",
       "  8.5  156.0  63.0  20.7\n",
       "  4.0  145.0  73.0  26.2\n",
       "  5.7   81.0  39.0   9.3\n",
       "  2.6   53.0  66.0  10.8\n",
       "  6.8  161.0  60.0  15.6"
      ]
     },
     "execution_count": 2,
     "metadata": {},
     "output_type": "execute_result"
    }
   ],
   "source": [
    "USm = Matrix(US[:,2:5]) # scaling requires a matrix"
   ]
  },
  {
   "cell_type": "code",
   "execution_count": 3,
   "metadata": {},
   "outputs": [
    {
     "data": {
      "text/plain": [
       "50×4 Matrix{Float64}:\n",
       "  1.24256     0.782839  -0.520907   -0.00341647\n",
       "  0.507862    1.10682   -1.21176     2.4842\n",
       "  0.0716334   1.4788     0.99898     1.04288\n",
       "  0.232349    0.230868  -1.07359    -0.184917\n",
       "  0.278268    1.26281    1.75892     2.06782\n",
       "  0.0257146   0.398859   0.860809    1.86497\n",
       " -1.03042    -0.729082   0.791723   -1.08174\n",
       " -0.433474    0.806838   0.446294   -0.579946\n",
       "  1.74767     1.97078    0.99898     1.13897\n",
       "  2.20686     0.482855  -0.382735    0.487702\n",
       " -0.57123    -1.49704    1.20624    -0.110181\n",
       " -1.19113    -0.609088  -0.79725    -0.75077\n",
       "  0.5997      0.938831   1.20624     0.295525\n",
       "  ⋮                                 \n",
       " -1.00746     0.038878   1.48258    -1.38068\n",
       "  1.51808     1.29881   -1.21176     0.135378\n",
       " -0.915622   -1.01707   -1.41902    -0.900241\n",
       "  1.24256     0.206869  -0.451821    0.605143\n",
       "  1.12777     0.362861   0.99898     0.455672\n",
       " -1.05338    -0.609088   0.99898     0.178084\n",
       " -1.28297    -1.47304   -2.31714    -1.07106\n",
       "  0.163471   -0.177111  -0.175478   -0.0567989\n",
       " -0.869703   -0.309104   0.51538     0.530407\n",
       " -0.479393   -1.07706   -1.83354    -1.27392\n",
       " -1.19113    -1.41305    0.0317794  -1.11377\n",
       " -0.226839   -0.117114  -0.382735   -0.601299"
      ]
     },
     "execution_count": 3,
     "metadata": {},
     "output_type": "execute_result"
    }
   ],
   "source": [
    "USsc = standardize(ZScoreTransform, USm, dims=1)\n",
    "# scale each attribute to have mean 0 and std dev 1"
   ]
  },
  {
   "cell_type": "code",
   "execution_count": 4,
   "metadata": {},
   "outputs": [
    {
     "data": {
      "text/plain": [
       "distance (generic function with 1 method)"
      ]
     },
     "execution_count": 4,
     "metadata": {},
     "output_type": "execute_result"
    }
   ],
   "source": [
    "# a function to compute the squared euclidean distance between\n",
    "# two vectors x and y.\n",
    "function distance(x, y)\n",
    "    return norm(x-y)^2\n",
    "end"
   ]
  },
  {
   "cell_type": "code",
   "execution_count": 5,
   "metadata": {},
   "outputs": [
    {
     "data": {
      "text/plain": [
       "centroid (generic function with 1 method)"
      ]
     },
     "execution_count": 5,
     "metadata": {},
     "output_type": "execute_result"
    }
   ],
   "source": [
    "# a function to compute the centroid of a cluster.\n",
    "# X is a matrix that contains the cluster,\n",
    "# with rows as observations and (numeric) columns as attributes.\n",
    "function centroid(X)\n",
    "    return mean(X, dims=1)\n",
    "end"
   ]
  },
  {
   "cell_type": "code",
   "execution_count": 6,
   "metadata": {},
   "outputs": [
    {
     "data": {
      "text/plain": [
       "kmeans1 (generic function with 1 method)"
      ]
     },
     "execution_count": 6,
     "metadata": {},
     "output_type": "execute_result"
    }
   ],
   "source": [
    "# a single iteration of kmeans\n",
    "function kmeans1(X, k)\n",
    "    (m,n) = size(X)\n",
    "    if k > m\n",
    "        error(\"number of clusters \", k, \" > number of observations \", m)\n",
    "    end\n",
    "\n",
    "    clusters0 = rand(1:k, m)  # random initial assignment\n",
    "    clusters = zeros(Int8, m) # will hold the cluster assignments\n",
    "    \n",
    "    ii = 0\n",
    "    while true\n",
    "        # compute the cluster centroids\n",
    "        c = zeros(k, n)\n",
    "        for i in 1:k\n",
    "            c[i,:] = centroid( X[ findall(x->x==i, clusters0), : ] )\n",
    "        end\n",
    "\n",
    "        # assign each observation to the nearest centroid\n",
    "        for i in 1:m\n",
    "            clusters[i] = 1  # initially assign observation to cluster 1\n",
    "            best = distance(X[i,:], c[1,:])\n",
    "            for j in 2:k\n",
    "                candidate = distance(X[i,:], c[j,:])\n",
    "                if candidate < best  # assign to cluster j if closer\n",
    "                    best = candidate\n",
    "                    clusters[i] = j\n",
    "                end\n",
    "            end\n",
    "        end\n",
    "        if clusters == clusters0\n",
    "            break\n",
    "        end\n",
    "        clusters0 = clusters\n",
    "        ii += 1\n",
    "        if ii % 1 == 0\n",
    "            println(\"iteration \", ii)\n",
    "        end\n",
    "    end\n",
    "    ncl = length(countmap(clusters))\n",
    "    if ncl != k\n",
    "        @warn \"clustering solution contains \"*string(ncl)*\" < \"*string(k)*\" clusters.\"\n",
    "    end\n",
    "    return clusters\n",
    "end"
   ]
  },
  {
   "cell_type": "code",
   "execution_count": 7,
   "metadata": {},
   "outputs": [
    {
     "data": {
      "text/plain": [
       "objective (generic function with 1 method)"
      ]
     },
     "execution_count": 7,
     "metadata": {},
     "output_type": "execute_result"
    }
   ],
   "source": [
    "# a function compute the value of the kmeans objective\n",
    "# function, the sum of the within-cluster distances.\n",
    "# X is the matrix of observations.\n",
    "# k is the number of clusters.\n",
    "# cl is the clustering solution.\n",
    "function objective(X, k, cl)\n",
    "    result = 0\n",
    "\n",
    "    # compute the cluster centroids\n",
    "    c = zeros(k, size(X,2))\n",
    "    for i in 1:k\n",
    "        c[i,:] = centroid( X[ findall(x->x==i, cl), : ] )\n",
    "    end\n",
    "    \n",
    "    # compute the distances within each cluster and\n",
    "    # add to the total result\n",
    "    for i in 1:k\n",
    "        X_cl = X[findall(x->x==i, cl), :]\n",
    "        for j in 1:size(X_cl, 1)\n",
    "            result += norm(X_cl[j, :] - c[i, :])^2\n",
    "        end\n",
    "    end\n",
    "    \n",
    "    return result\n",
    "end"
   ]
  },
  {
   "cell_type": "code",
   "execution_count": 8,
   "metadata": {},
   "outputs": [
    {
     "data": {
      "text/plain": [
       "kmeans (generic function with 1 method)"
      ]
     },
     "execution_count": 8,
     "metadata": {},
     "output_type": "execute_result"
    }
   ],
   "source": [
    "# driver function for kmeans.\n",
    "# X is the (scaled) matrix of observations.\n",
    "# k is the number of clusters.\n",
    "# niter is the number of times to run the k-means algorithm.\n",
    "# the best of the niter candidate solutions is returned.\n",
    "function kmeans(X, k; niter=50)\n",
    "    \n",
    "    clusters = kmeans1(X, k)\n",
    "    bestCl = clusters\n",
    "    bestVal = objective(X, k, clusters)\n",
    "    \n",
    "    for n in 1:niter\n",
    "        clusters = kmeans1(X, k)\n",
    "        val = objective(X, k, clusters)\n",
    "        println(\"candidate solution \", n, \": \", val)\n",
    "        if val < bestVal\n",
    "            bestVal = val\n",
    "            bestCl = clusters\n",
    "        end\n",
    "    end\n",
    "    \n",
    "    return bestCl\n",
    "end"
   ]
  },
  {
   "cell_type": "code",
   "execution_count": 9,
   "metadata": {},
   "outputs": [
    {
     "name": "stdout",
     "output_type": "stream",
     "text": [
      "iteration 1\n",
      "iteration 1\n",
      "candidate solution 1: 71.25993059839846\n",
      "iteration 1\n",
      "candidate solution 2: 76.40636380117655\n",
      "iteration 1\n",
      "candidate solution 3: 67.71944137992175\n",
      "iteration 1\n",
      "candidate solution 4: 77.55998115147533\n",
      "iteration 1\n",
      "candidate solution 5: 78.15529285980382\n",
      "iteration 1\n",
      "candidate solution 6: 70.78549386515611\n",
      "iteration 1\n",
      "candidate solution 7: 81.07039163465508\n",
      "iteration 1\n",
      "candidate solution 8: 63.794494847734526\n",
      "iteration 1\n",
      "candidate solution 9: 62.69857041763498\n",
      "iteration 1\n",
      "candidate solution 10: 77.0939945548463\n",
      "iteration 1\n",
      "candidate solution 11: 70.58537814891393\n",
      "iteration 1\n",
      "candidate solution 12: 60.194325489254375\n",
      "iteration 1\n",
      "candidate solution 13: 75.85090134403768\n",
      "iteration 1\n",
      "candidate solution 14: 56.96390255050683\n",
      "iteration 1\n",
      "candidate solution 15: 70.22999472735529\n",
      "iteration 1\n",
      "candidate solution 16: 70.11491715046824\n",
      "iteration 1\n",
      "candidate solution 17: 60.68820608213485\n",
      "iteration 1\n",
      "candidate solution 18: 77.01960633866868\n",
      "iteration 1\n",
      "candidate solution 19: 68.82525128968487\n",
      "iteration 1\n",
      "candidate solution 20: 76.15744655565935\n",
      "iteration 1\n",
      "candidate solution 21: 72.98606303408944\n",
      "iteration 1\n",
      "candidate solution 22: 72.63979976596218\n",
      "iteration 1\n",
      "candidate solution 23: 67.42916041250665\n",
      "iteration 1\n",
      "candidate solution 24: 78.48755967136186\n",
      "iteration 1\n",
      "candidate solution 25: 62.443952326790615\n",
      "iteration 1\n",
      "candidate solution 26: 65.74701923645601\n",
      "iteration 1\n",
      "candidate solution 27: 69.40920340130619\n",
      "iteration 1\n",
      "candidate solution 28: 78.1741158850707\n",
      "iteration 1\n",
      "candidate solution 29: 61.16596933177862\n",
      "iteration 1\n",
      "candidate solution 30: 59.049632382744754\n",
      "iteration 1\n",
      "candidate solution 31: 73.43886663131659\n",
      "iteration 1\n",
      "candidate solution 32: 73.66807242639398\n",
      "iteration 1\n",
      "candidate solution 33: 76.00090855938562\n",
      "iteration 1\n",
      "candidate solution 34: 79.86183625449212\n",
      "iteration 1\n",
      "candidate solution 35: 61.31033019947034\n",
      "iteration 1\n",
      "candidate solution 36: 73.47183841590453\n",
      "iteration 1\n",
      "candidate solution 37: 83.73552163463928\n",
      "iteration 1\n",
      "candidate solution 38: 68.14341373043814\n",
      "iteration 1\n",
      "candidate solution 39: 76.49424837757539\n",
      "iteration 1\n",
      "candidate solution 40: 80.05539620104848\n",
      "iteration 1\n",
      "candidate solution 41: 81.291598622863\n",
      "iteration 1\n",
      "candidate solution 42: 74.85087406833041\n",
      "iteration 1\n",
      "candidate solution 43: 57.415717917206365\n",
      "iteration 1\n",
      "candidate solution 44: 58.124961262926476\n",
      "iteration 1\n",
      "candidate solution 45: 70.49502413198394\n",
      "iteration 1\n",
      "candidate solution 46: 82.82724948715612\n",
      "iteration 1\n",
      "candidate solution 47: 59.33464455350775\n",
      "iteration 1\n",
      "candidate solution 48: 69.45005235823275\n",
      "iteration 1\n",
      "candidate solution 49: 75.98373709078187\n",
      "iteration 1\n",
      "candidate solution 50: 61.040795293189696\n"
     ]
    }
   ],
   "source": [
    "cl = kmeans(USsc, 4);    # call kmeans driver function"
   ]
  },
  {
   "cell_type": "code",
   "execution_count": 10,
   "metadata": {},
   "outputs": [
    {
     "data": {
      "text/plain": [
       "56.96390255050683"
      ]
     },
     "execution_count": 10,
     "metadata": {},
     "output_type": "execute_result"
    }
   ],
   "source": [
    "objective(USsc, 4, cl)   # the objective function of the best solution found"
   ]
  },
  {
   "cell_type": "code",
   "execution_count": 11,
   "metadata": {},
   "outputs": [
    {
     "data": {
      "text/plain": [
       "Dict{Int8, Int64} with 4 entries:\n",
       "  4 => 15\n",
       "  2 => 8\n",
       "  3 => 14\n",
       "  1 => 13"
      ]
     },
     "execution_count": 11,
     "metadata": {},
     "output_type": "execute_result"
    }
   ],
   "source": [
    "cldict = countmap(cl)    # use countmap() to see the number of obs in each cluster"
   ]
  },
  {
   "cell_type": "code",
   "execution_count": 12,
   "metadata": {},
   "outputs": [
    {
     "name": "stdout",
     "output_type": "stream",
     "text": [
      "mean of cluster 1 for rape = 33.19\n",
      "mean of cluster 1 for assault = 257.38\n",
      "mean of cluster 1 for urbanpop = 76.0\n",
      "mean of cluster 1 for murder = 10.82\n",
      "\n",
      "mean of cluster 2 for rape = 21.41\n",
      "mean of cluster 2 for assault = 243.62\n",
      "mean of cluster 2 for urbanpop = 53.75\n",
      "mean of cluster 2 for murder = 13.94\n",
      "\n",
      "mean of cluster 3 for rape = 12.42\n",
      "mean of cluster 3 for assault = 84.43\n",
      "mean of cluster 3 for urbanpop = 52.64\n",
      "mean of cluster 3 for murder = 3.83\n",
      "\n",
      "mean of cluster 4 for rape = 18.99\n",
      "mean of cluster 4 for assault = 137.4\n",
      "mean of cluster 4 for urbanpop = 74.8\n",
      "mean of cluster 4 for murder = 5.58\n",
      "\n"
     ]
    }
   ],
   "source": [
    "# obtain information from the clustering to solution to provide\n",
    "# a qualitative description of each of the four clusters of states.\n",
    "vars = [\"murder\", \"assault\", \"urbanpop\", \"rape\"]\n",
    "\n",
    "for i in 1:4\n",
    "    for j in keys(cldict)\n",
    "        c = centroid(USm[ findall(x->x==i, cl), : ])\n",
    "        println(\"mean of cluster \", i, \" for \", vars[j], \" = \", round(c[j], digits=2))\n",
    "    end\n",
    "    println()\n",
    "end"
   ]
  },
  {
   "cell_type": "markdown",
   "metadata": {},
   "source": [
    "Ranking (lowest to highest) <br>\n",
    "rape: 3, 4, 2, 1 <br>\n",
    "assault: 3, 4, 2, 1 <br>\n",
    "urbanpop: 3, 2, 4, 1 <br>\n",
    "murder: 3, 4, 1, 2\n",
    "\n",
    "States in cluster 1 have the highest mean percent urban population, highest number of rape arrests as well as assault arrests. States in cluster 3 score lowest on all 4 attributes: lowest percent urban population, and lowest number of arrests for all 3 crimes. Compared to those in cluster 2, states in cluster 4 have a higher percent urban population but lower number of arrests for all 3 crimes. States in cluster 2 have the highest number of murder arrests."
   ]
  }
 ],
 "metadata": {
  "kernelspec": {
   "display_name": "Julia 1.8.0",
   "language": "julia",
   "name": "julia-1.8"
  },
  "language_info": {
   "file_extension": ".jl",
   "mimetype": "application/julia",
   "name": "julia",
   "version": "1.8.0"
  }
 },
 "nbformat": 4,
 "nbformat_minor": 4
}
